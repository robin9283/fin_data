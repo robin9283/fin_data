{
 "cells": [
  {
   "cell_type": "code",
   "execution_count": 2,
   "id": "8aabf180-c01f-4593-a91e-710869188280",
   "metadata": {},
   "outputs": [
    {
     "name": "stderr",
     "output_type": "stream",
     "text": [
      "[*********************100%%**********************]  3 of 3 completed\n"
     ]
    }
   ],
   "source": [
    "import yfinance as yf\n",
    "import pandas as pd\n",
    "import statsmodels.api as sm\n",
    "\n",
    "# 設定要下載的台灣股票代碼列表\n",
    "tickers = ['2330', '2317', '6505']  # 示例股票代碼\n",
    "tickers_tw = [ticker + '.TW' for ticker in tickers]\n",
    "\n",
    "# 設定時間範圍\n",
    "start_date = '2021-01-04'\n",
    "end_date = '2022-12-30'\n",
    "\n",
    "# 下載股票數據\n",
    "stock_data = yf.download(tickers_tw, start=start_date, end=end_date)['Adj Close']\n",
    "# 計算股票收益率\n",
    "returns = stock_data.pct_change().dropna()\n",
    "\n",
    "# 獲取三因子數據\n",
    "ff_factors_url = 'https://mba.tuck.dartmouth.edu/pages/faculty/ken.french/ftp/F-F_Research_Data_Factors_daily_CSV.zip'\n",
    "ff_factors = pd.read_csv(ff_factors_url, compression='zip', skiprows=3)\n",
    "\n",
    "# 過濾掉非數據行\n",
    "ff_factors = ff_factors[ff_factors.iloc[:, 0].apply(lambda x: str(x).isdigit())]\n",
    "\n",
    "# 設置正確列名\n",
    "ff_factors.columns = ['Date', 'Mkt-RF', 'SMB', 'HML', 'RF']\n",
    "\n",
    "# 轉換日期格式\n",
    "ff_factors['Date'] = pd.to_datetime(ff_factors['Date'], format='%Y%m%d')\n",
    "\n",
    "# 設置索引\n",
    "ff_factors.set_index('Date', inplace=True)\n",
    "\n",
    "# 過濾日期範圍\n",
    "ff_factors = ff_factors.loc[start_date:end_date]\n",
    "\n",
    "# 轉換為百分比\n",
    "ff_factors = ff_factors / 100\n",
    "\n",
    "# 合併數據\n",
    "merged_data = returns.join(ff_factors[['Mkt-RF', 'SMB', 'HML', 'RF']], how='inner', lsuffix='_returns', rsuffix='_ff_factors')\n",
    "\n",
    "# 計算超額收益\n",
    "excess_returns = merged_data[tickers_tw].subtract(merged_data['RF'], axis=0)\n",
    "\n",
    "# 創建空的字典儲存回歸模型\n",
    "models = {}\n",
    "\n",
    "# 回歸分析\n",
    "for ticker in tickers_tw:\n",
    "    Y = excess_returns[ticker]\n",
    "    X = merged_data[['Mkt-RF', 'SMB', 'HML']]  # 使用正確列名\n",
    "    X = sm.add_constant(X)  # 添加常數項\n",
    "    model = sm.OLS(Y, X).fit()\n",
    "    models[ticker] = model"
   ]
  },
  {
   "cell_type": "code",
   "execution_count": 6,
   "id": "0fc65dff-d896-4724-9e02-cb041ef6b0a8",
   "metadata": {},
   "outputs": [
    {
     "name": "stderr",
     "output_type": "stream",
     "text": [
      "[*********************100%%**********************]  3 of 3 completed\n"
     ]
    }
   ],
   "source": [
    "# 設定最近一週的日期範圍\n",
    "current_start_date = '2023-01-01'\n",
    "current_end_date = '2023-01-07'\n",
    "\n",
    "# 下載最近一週的股票數據\n",
    "stock_data = yf.download(tickers_tw, start=current_start_date, end=current_end_date)['Adj Close']\n",
    "\n",
    "# 找到最近一個有數據的日期\n",
    "last_available_date = stock_data.dropna().index[-1]\n",
    "current_stock_data = stock_data.loc[last_available_date]\n",
    "\n",
    "# 獲取前一個交易日的數據\n",
    "previous_stock_data = stock_data.shift(1).loc[last_available_date]\n",
    "current_returns = (current_stock_data - previous_stock_data) / previous_stock_data"
   ]
  },
  {
   "cell_type": "code",
   "execution_count": 7,
   "id": "89a0ccac-d3e1-4e76-8913-2162ea2d112c",
   "metadata": {},
   "outputs": [],
   "source": [
    "# 確保日期在ff_factors中存在\n",
    "if last_available_date not in ff_factors.index:\n",
    "    last_available_date = ff_factors.index[-1]  # 使用最近的三因子數據\n",
    "\n",
    "# 過濾到最近可用的三因子數據\n",
    "current_ff_factors = ff_factors.loc[last_available_date]\n",
    "\n",
    "# 轉換為百分比\n",
    "current_ff_factors = current_ff_factors / 100\n",
    "\n",
    "# 計算當前的超額收益\n",
    "current_excess_returns = current_returns.subtract(current_ff_factors['RF'])"
   ]
  },
  {
   "cell_type": "code",
   "execution_count": 8,
   "id": "a1821c83-1b3b-4c3f-ab05-f9c7b5b858b4",
   "metadata": {},
   "outputs": [
    {
     "name": "stdout",
     "output_type": "stream",
     "text": [
      "2330.TW 評分: -0.00036730672682588737\n",
      "2317.TW 評分: 0.0001436487472415393\n",
      "6505.TW 評分: -0.0005608984547290124\n"
     ]
    }
   ],
   "source": [
    "# 創建一個 DataFrame 來存儲當前的三因子數據\n",
    "current_factors = pd.DataFrame({\n",
    "    'const': 1,\n",
    "    'Mkt-RF': current_ff_factors['Mkt-RF'],\n",
    "    'SMB': current_ff_factors['SMB'],\n",
    "    'HML': current_ff_factors['HML']\n",
    "}, index=[0])\n",
    "\n",
    "# 使用模型來預測評分\n",
    "predictions = {}\n",
    "for ticker in tickers_tw:\n",
    "    model = models[ticker]\n",
    "    prediction = model.predict(current_factors)\n",
    "    predictions[ticker] = prediction[0]\n",
    "\n",
    "# 顯示預測結果\n",
    "for ticker, score in predictions.items():\n",
    "    print(f'{ticker} 評分: {score}')"
   ]
  },
  {
   "cell_type": "code",
   "execution_count": null,
   "id": "60ba9d2a-f32a-4064-b14f-f7b379386478",
   "metadata": {},
   "outputs": [],
   "source": []
  }
 ],
 "metadata": {
  "kernelspec": {
   "display_name": "Python 3 (ipykernel)",
   "language": "python",
   "name": "python3"
  },
  "language_info": {
   "codemirror_mode": {
    "name": "ipython",
    "version": 3
   },
   "file_extension": ".py",
   "mimetype": "text/x-python",
   "name": "python",
   "nbconvert_exporter": "python",
   "pygments_lexer": "ipython3",
   "version": "3.11.7"
  }
 },
 "nbformat": 4,
 "nbformat_minor": 5
}
